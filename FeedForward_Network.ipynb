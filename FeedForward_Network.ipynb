{
 "cells": [
  {
   "cell_type": "markdown",
   "metadata": {},
   "source": [
    "Reference: http://www.pyimagesearch.com/2016/09/26/a-simple-neural-network-with-python-and-keras/\n",
    "\n",
    "https://github.com/Vict0rSch/deep_learning/blob/master/keras/feedforward/feedforward_keras_mnist.py"
   ]
  },
  {
   "cell_type": "code",
   "execution_count": 1,
   "metadata": {},
   "outputs": [
    {
     "name": "stderr",
     "output_type": "stream",
     "text": [
      "Using TensorFlow backend.\n",
      "/Users/karanuppal/anaconda/envs/gl-env/lib/python2.7/site-packages/pandas/computation/__init__.py:19: UserWarning: The installed version of numexpr 2.4.4 is not supported in pandas and will be not be used\n",
      "\n",
      "  UserWarning)\n"
     ]
    }
   ],
   "source": [
    "import time\n",
    "import numpy as np\n",
    "import matplotlib.pyplot as plt\n",
    "%matplotlib inline\n",
    "from keras.utils import np_utils\n",
    "import keras.callbacks as cb\n",
    "from keras.models import Sequential\n",
    "from keras.layers.core import Dense, Dropout, Activation\n",
    "from keras.optimizers import RMSprop\n",
    "from keras.optimizers import SGD\n",
    "from keras.datasets import mnist\n",
    "from keras.layers import Conv2D, MaxPooling2D\n",
    "from keras.preprocessing.image import ImageDataGenerator\n",
    "from keras import optimizers\n",
    "from keras import backend as K\n",
    "import keras"
   ]
  },
  {
   "cell_type": "markdown",
   "metadata": {},
   "source": [
    "Feed_Forward_Network with 1 Hidden Layer - Configuration -- [784,100,10]"
   ]
  },
  {
   "cell_type": "code",
   "execution_count": 81,
   "metadata": {
    "collapsed": true
   },
   "outputs": [],
   "source": [
    "def load_data():\n",
    "    print 'Loading data...'\n",
    "    (X_train, y_train), (X_test, y_test) = mnist.load_data()\n",
    "\n",
    "    X_train = X_train.astype('float32')\n",
    "    X_test = X_test.astype('float32')\n",
    "\n",
    "    X_train /= 255\n",
    "    X_test /= 255\n",
    "\n",
    "    y_train = np_utils.to_categorical(y_train, 10)\n",
    "    y_test = np_utils.to_categorical(y_test, 10)\n",
    "\n",
    "    X_train = np.reshape(X_train, (60000, 784))\n",
    "    X_test = np.reshape(X_test, (10000, 784))\n",
    "\n",
    "    \n",
    "    print 'Data loaded.'\n",
    "    return [X_train, X_test, y_train, y_test]\n",
    "    \n",
    "\n",
    "def init_model():\n",
    "    start_time = time.time()\n",
    "    print 'Compiling Model ... '\n",
    "    model = Sequential()\n",
    "    model.add(Dense(500, input_dim=784))\n",
    "    model.add(Dropout(0.25))\n",
    "    model.add(Dense(50))\n",
    "    model.add(Activation('relu'))\n",
    "    model.add(Dropout(0.25))\n",
    "    model.add(Dense(10))\n",
    "    model.add(Activation('softmax'))\n",
    "\n",
    "    rms = RMSprop()\n",
    "    model.compile(loss='categorical_crossentropy', optimizer=SGD(lr=0.05), metrics=['accuracy'])\n",
    "    print 'Model compield in {0} seconds'.format(time.time() - start_time)\n",
    "    return model\n",
    "\n",
    "\n",
    "def run_network(data=None, model=None, epochs=20, batch=128):\n",
    "        start_time = time.time()\n",
    "        if data is None:\n",
    "            X_train, X_test, y_train, y_test = load_data()\n",
    "        else:\n",
    "            X_train, X_test, y_train, y_test = data\n",
    "\n",
    "        if model is None:\n",
    "            model = init_model()\n",
    "        print 'Training model...'        \n",
    "        hist=model.fit(X_train, y_train, batch_size=batch,\n",
    "                           nb_epoch=epochs,\n",
    "                           verbose=2,  #1 for ETA, 0 for silent\n",
    "                           validation_data=(X_test, y_test))\n",
    "        print \"Training duration : {0}\".format(time.time() - start_time)\n",
    "        score = model.evaluate(X_test, y_test, batch_size=16)\n",
    "        print \"Network's test score [loss, accuracy]: {0}\".format(score)\n",
    "        return hist "
   ]
  },
  {
   "cell_type": "markdown",
   "metadata": {},
   "source": [
    "# data = load_data()\n",
    "hist=run_network(data=data)\n",
    "#plot_losses(losses)\n",
    "# list all data in history\n",
    "print(hist.history.keys())\n",
    "# summarize history for accuracy\n",
    "plt.plot(hist.history['acc'])\n",
    "plt.plot(hist.history['val_acc'])\n",
    "plt.title('model accuracy')\n",
    "plt.ylabel('accuracy')\n",
    "plt.xlabel('epoch')\n",
    "plt.legend(['train', 'test'], loc='upper left')\n",
    "plt.show()\n",
    "# summarize history for loss\n",
    "plt.plot(hist.history['loss'])\n",
    "plt.plot(hist.history['val_loss'])\n",
    "plt.title('model loss')\n",
    "plt.ylabel('loss')\n",
    "plt.xlabel('epoch')\n",
    "plt.legend(['train', 'test'], loc='upper left')\n",
    "plt.show()"
   ]
  },
  {
   "cell_type": "markdown",
   "metadata": {},
   "source": [
    "FeedForward Network with 2 Hidden Layers"
   ]
  },
  {
   "cell_type": "code",
   "execution_count": 89,
   "metadata": {
    "collapsed": true
   },
   "outputs": [],
   "source": [
    "def load_data():\n",
    "    print 'Loading data...'\n",
    "    (X_train, y_train), (X_test, y_test) = mnist.load_data()\n",
    "\n",
    "    X_train = X_train.astype('float32')\n",
    "    X_test = X_test.astype('float32')\n",
    "\n",
    "    X_train /= 255\n",
    "    X_test /= 255\n",
    "\n",
    "    y_train = np_utils.to_categorical(y_train, 10)\n",
    "    y_test = np_utils.to_categorical(y_test, 10)\n",
    "\n",
    "    X_train = np.reshape(X_train, (60000, 784))\n",
    "    X_test = np.reshape(X_test, (10000, 784))\n",
    "\n",
    "    \n",
    "    print 'Data loaded.'\n",
    "    return [X_train, X_test, y_train, y_test]\n",
    "    \n",
    "\n",
    "def init_model():\n",
    "    start_time = time.time()\n",
    "    print 'Compiling Model ... '\n",
    "    model = Sequential()\n",
    "    model.add(Dense(500, input_dim=784))\n",
    "    model.add(Dropout(0.25))\n",
    "    model.add(Dense(50))\n",
    "    model.add(Activation('relu'))\n",
    "    model.add(Dropout(0.25))\n",
    "    model.add(Dense(50))\n",
    "    model.add(Activation('relu'))\n",
    "    model.add(Dropout(0.25))\n",
    "    model.add(Dense(10))\n",
    "    model.add(Activation('softmax'))\n",
    "\n",
    "    rms = RMSprop()\n",
    "    model.compile(loss='categorical_crossentropy', optimizer=SGD(lr=0.05), metrics=['accuracy'])\n",
    "    print 'Model compield in {0} seconds'.format(time.time() - start_time)\n",
    "    return model\n",
    "\n",
    "\n",
    "def run_network(data=None, model=None, epochs=20, batch=128):\n",
    "        start_time = time.time()\n",
    "        if data is None:\n",
    "            X_train, X_test, y_train, y_test = load_data()\n",
    "        else:\n",
    "            X_train, X_test, y_train, y_test = data\n",
    "\n",
    "        if model is None:\n",
    "            model = init_model()\n",
    "        print 'Training model...'        \n",
    "        hist=model.fit(X_train, y_train, batch_size=batch,\n",
    "                           nb_epoch=epochs,\n",
    "                           verbose=2,  #1 for ETA, 0 for silent\n",
    "                           validation_data=(X_test, y_test))\n",
    "        print \"Training duration : {0}\".format(time.time() - start_time)\n",
    "        score = model.evaluate(X_test, y_test, batch_size=16)\n",
    "        print \"Network's test score [loss, accuracy]: {0}\".format(score)\n",
    "        return hist "
   ]
  },
  {
   "cell_type": "code",
   "execution_count": 90,
   "metadata": {},
   "outputs": [
    {
     "name": "stdout",
     "output_type": "stream",
     "text": [
      "Loading data...\n",
      "Data loaded.\n",
      "Compiling Model ... \n",
      "Model compield in 0.151681900024 seconds\n",
      "Training model...\n",
      "Train on 60000 samples, validate on 10000 samples\n",
      "Epoch 1/20\n",
      "7s - loss: 0.3249 - acc: 0.8982 - val_loss: 0.1401 - val_acc: 0.9557\n",
      "Epoch 2/20\n",
      "7s - loss: 0.1412 - acc: 0.9567 - val_loss: 0.1270 - val_acc: 0.9625\n",
      "Epoch 3/20\n",
      "6s - loss: 0.1029 - acc: 0.9684 - val_loss: 0.1107 - val_acc: 0.9673\n",
      "Epoch 4/20\n",
      "6s - loss: 0.0846 - acc: 0.9735 - val_loss: 0.0803 - val_acc: 0.9749\n",
      "Epoch 5/20\n",
      "6s - loss: 0.0722 - acc: 0.9778 - val_loss: 0.0969 - val_acc: 0.9736\n",
      "Epoch 6/20\n",
      "6s - loss: 0.0648 - acc: 0.9804 - val_loss: 0.1080 - val_acc: 0.9679\n",
      "Epoch 7/20\n",
      "6s - loss: 0.0570 - acc: 0.9819 - val_loss: 0.1374 - val_acc: 0.9668\n",
      "Epoch 8/20\n",
      "7s - loss: 0.0539 - acc: 0.9838 - val_loss: 0.0820 - val_acc: 0.9786\n",
      "Epoch 9/20\n",
      "6s - loss: 0.0488 - acc: 0.9846 - val_loss: 0.0725 - val_acc: 0.9807\n",
      "Epoch 10/20\n",
      "6s - loss: 0.0463 - acc: 0.9855 - val_loss: 0.0669 - val_acc: 0.9817\n",
      "Epoch 11/20\n",
      "6s - loss: 0.0412 - acc: 0.9871 - val_loss: 0.0885 - val_acc: 0.9780\n",
      "Epoch 12/20\n",
      "6s - loss: 0.0408 - acc: 0.9876 - val_loss: 0.0706 - val_acc: 0.9828\n",
      "Epoch 13/20\n",
      "7s - loss: 0.0356 - acc: 0.9886 - val_loss: 0.0961 - val_acc: 0.9781\n",
      "Epoch 14/20\n",
      "6s - loss: 0.0371 - acc: 0.9889 - val_loss: 0.0883 - val_acc: 0.9807\n",
      "Epoch 15/20\n",
      "6s - loss: 0.0358 - acc: 0.9891 - val_loss: 0.0853 - val_acc: 0.9812\n",
      "Epoch 16/20\n",
      "6s - loss: 0.0344 - acc: 0.9896 - val_loss: 0.0875 - val_acc: 0.9809\n",
      "Epoch 17/20\n",
      "6s - loss: 0.0336 - acc: 0.9905 - val_loss: 0.0964 - val_acc: 0.9801\n",
      "Epoch 18/20\n",
      "7s - loss: 0.0333 - acc: 0.9905 - val_loss: 0.0868 - val_acc: 0.9808\n",
      "Epoch 19/20\n",
      "6s - loss: 0.0322 - acc: 0.9906 - val_loss: 0.0922 - val_acc: 0.9801\n",
      "Epoch 20/20\n",
      "9s - loss: 0.0298 - acc: 0.9914 - val_loss: 0.0887 - val_acc: 0.9815\n",
      "Training duration : 142.998019934\n",
      " 9760/10000 [============================>.] - ETA: 0sNetwork's test score [loss, accuracy]: [0.088698068711832542, 0.98150000000000004]\n",
      "['acc', 'loss', 'val_acc', 'val_loss']\n"
     ]
    },
    {
     "data": {
      "image/png": "[encoded data removed]",
      "text/plain": [
       "<matplotlib.figure.Figure at 0x13d9ac790>"
      ]
     },
     "metadata": {},
     "output_type": "display_data"
    },
    {
     "data": {
      "image/png": "[encoded data removed]",
      "text/plain": [
       "<matplotlib.figure.Figure at 0x134ba1d10>"
      ]
     },
     "metadata": {},
     "output_type": "display_data"
    }
   ],
   "source": [
    "data = load_data()\n",
    "hist=run_network(data=data)\n",
    "# list all data in history\n",
    "print(hist.history.keys())\n",
    "# summarize history for accuracy\n",
    "plt.plot(hist.history['acc'])\n",
    "plt.plot(hist.history['val_acc'])\n",
    "plt.title('model accuracy')\n",
    "plt.ylabel('accuracy')\n",
    "plt.xlabel('epoch')\n",
    "plt.legend(['train', 'test'], loc='upper left')\n",
    "plt.show()\n",
    "# summarize history for loss\n",
    "plt.plot(hist.history['loss'])\n",
    "plt.plot(hist.history['val_loss'])\n",
    "plt.title('model loss')\n",
    "plt.ylabel('loss')\n",
    "plt.xlabel('epoch')\n",
    "plt.legend(['train', 'test'], loc='upper left')\n",
    "plt.show()"
   ]
  },
  {
   "cell_type": "markdown",
   "metadata": {},
   "source": [
    "Feed Forward Network with Momemtum"
   ]
  },
  {
   "cell_type": "code",
   "execution_count": 91,
   "metadata": {
    "collapsed": true
   },
   "outputs": [],
   "source": [
    "def load_data():\n",
    "    print 'Loading data...'\n",
    "    (X_train, y_train), (X_test, y_test) = mnist.load_data()\n",
    "\n",
    "    X_train = X_train.astype('float32')\n",
    "    X_test = X_test.astype('float32')\n",
    "\n",
    "    X_train /= 255\n",
    "    X_test /= 255\n",
    "\n",
    "    y_train = np_utils.to_categorical(y_train, 10)\n",
    "    y_test = np_utils.to_categorical(y_test, 10)\n",
    "\n",
    "    X_train = np.reshape(X_train, (60000, 784))\n",
    "    X_test = np.reshape(X_test, (10000, 784))\n",
    "\n",
    "    \n",
    "    print 'Data loaded.'\n",
    "    return [X_train, X_test, y_train, y_test]\n",
    "    \n",
    "\n",
    "def init_model():\n",
    "    start_time = time.time()\n",
    "    print 'Compiling Model ... '\n",
    "    model = Sequential()\n",
    "    model.add(Dense(500, input_dim=784))\n",
    "    model.add(Dropout(0.25))\n",
    "    model.add(Dense(50))\n",
    "    model.add(Activation('relu'))\n",
    "    model.add(Dropout(0.25))\n",
    "    model.add(Dense(10))\n",
    "    model.add(Activation('softmax'))\n",
    "\n",
    "    rms = RMSprop()\n",
    "    model.compile(loss='categorical_crossentropy', optimizer=SGD(lr=0.05,momentum=0.9), metrics=['accuracy'])\n",
    "    print 'Model compield in {0} seconds'.format(time.time() - start_time)\n",
    "    return model\n",
    "\n",
    "\n",
    "def run_network(data=None, model=None, epochs=20, batch=128):\n",
    "        start_time = time.time()\n",
    "        if data is None:\n",
    "            X_train, X_test, y_train, y_test = load_data()\n",
    "        else:\n",
    "            X_train, X_test, y_train, y_test = data\n",
    "\n",
    "        if model is None:\n",
    "            model = init_model()\n",
    "        print 'Training model...'        \n",
    "        hist=model.fit(X_train, y_train, batch_size=batch,\n",
    "                           nb_epoch=epochs,\n",
    "                           verbose=2,  #1 for ETA, 0 for silent\n",
    "                           validation_data=(X_test, y_test))\n",
    "        print \"Training duration : {0}\".format(time.time() - start_time)\n",
    "        score = model.evaluate(X_test, y_test, batch_size=16)\n",
    "        print \"Network's test score [loss, accuracy]: {0}\".format(score)\n",
    "        return hist "
   ]
  },
  {
   "cell_type": "code",
   "execution_count": 92,
   "metadata": {},
   "outputs": [
    {
     "name": "stdout",
     "output_type": "stream",
     "text": [
      "Loading data...\n",
      "Data loaded.\n",
      "Compiling Model ... \n",
      "Model compield in 0.185832977295 seconds\n",
      "Training model...\n",
      "Train on 60000 samples, validate on 10000 samples\n",
      "Epoch 1/20\n",
      "7s - loss: 0.6230 - acc: 0.8100 - val_loss: 0.2546 - val_acc: 0.9247\n",
      "Epoch 2/20\n",
      "6s - loss: 0.2722 - acc: 0.9197 - val_loss: 0.1895 - val_acc: 0.9411\n",
      "Epoch 3/20\n",
      "6s - loss: 0.2112 - acc: 0.9371 - val_loss: 0.1515 - val_acc: 0.9550\n",
      "Epoch 4/20\n",
      "9s - loss: 0.1776 - acc: 0.9478 - val_loss: 0.1310 - val_acc: 0.9604\n",
      "Epoch 5/20\n",
      "6s - loss: 0.1558 - acc: 0.9531 - val_loss: 0.1178 - val_acc: 0.9634\n",
      "Epoch 6/20\n",
      "7s - loss: 0.1382 - acc: 0.9588 - val_loss: 0.1067 - val_acc: 0.9668\n",
      "Epoch 7/20\n",
      "7s - loss: 0.1249 - acc: 0.9631 - val_loss: 0.1011 - val_acc: 0.9687\n",
      "Epoch 8/20\n",
      "8s - loss: 0.1147 - acc: 0.9651 - val_loss: 0.0932 - val_acc: 0.9702\n",
      "Epoch 9/20\n",
      "8s - loss: 0.1051 - acc: 0.9680 - val_loss: 0.0877 - val_acc: 0.9720\n",
      "Epoch 10/20\n",
      "8s - loss: 0.0974 - acc: 0.9702 - val_loss: 0.0821 - val_acc: 0.9728\n",
      "Epoch 11/20\n",
      "6s - loss: 0.0918 - acc: 0.9715 - val_loss: 0.0814 - val_acc: 0.9745\n",
      "Epoch 12/20\n",
      "6s - loss: 0.0858 - acc: 0.9738 - val_loss: 0.0778 - val_acc: 0.9742\n",
      "Epoch 13/20\n",
      "6s - loss: 0.0794 - acc: 0.9749 - val_loss: 0.0768 - val_acc: 0.9756\n",
      "Epoch 14/20\n",
      "6s - loss: 0.0766 - acc: 0.9762 - val_loss: 0.0738 - val_acc: 0.9758\n",
      "Epoch 15/20\n",
      "6s - loss: 0.0722 - acc: 0.9779 - val_loss: 0.0708 - val_acc: 0.9770\n",
      "Epoch 16/20\n",
      "7s - loss: 0.0689 - acc: 0.9788 - val_loss: 0.0704 - val_acc: 0.9775\n",
      "Epoch 17/20\n",
      "7s - loss: 0.0667 - acc: 0.9794 - val_loss: 0.0696 - val_acc: 0.9777\n",
      "Epoch 18/20\n",
      "7s - loss: 0.0618 - acc: 0.9807 - val_loss: 0.0661 - val_acc: 0.9783\n",
      "Epoch 19/20\n",
      "6s - loss: 0.0594 - acc: 0.9814 - val_loss: 0.0657 - val_acc: 0.9797\n",
      "Epoch 20/20\n",
      "6s - loss: 0.0574 - acc: 0.9822 - val_loss: 0.0645 - val_acc: 0.9785\n",
      "Training duration : 146.871181011\n",
      " 9808/10000 [============================>.] - ETA: 0sNetwork's test score [loss, accuracy]: [0.064521376728464377, 0.97850000000000004]\n",
      "['acc', 'loss', 'val_acc', 'val_loss']\n"
     ]
    },
    {
     "data": {
      "image/png": "[encoded data removed]",
      "text/plain": [
       "<matplotlib.figure.Figure at 0x13cc196d0>"
      ]
     },
     "metadata": {},
     "output_type": "display_data"
    },
    {
     "data": {
      "image/png": "[encoded data removed]",
      "text/plain": [
       "<matplotlib.figure.Figure at 0x13d557d90>"
      ]
     },
     "metadata": {},
     "output_type": "display_data"
    }
   ],
   "source": [
    "data = load_data()\n",
    "hist=run_network(data=data)\n",
    "# list all data in history\n",
    "print(hist.history.keys())\n",
    "# summarize history for accuracy\n",
    "plt.plot(hist.history['acc'])\n",
    "plt.plot(hist.history['val_acc'])\n",
    "plt.title('model accuracy')\n",
    "plt.ylabel('accuracy')\n",
    "plt.xlabel('epoch')\n",
    "plt.legend(['train', 'test'], loc='upper left')\n",
    "plt.show()\n",
    "# summarize history for loss\n",
    "plt.plot(hist.history['loss'])\n",
    "plt.plot(hist.history['val_loss'])\n",
    "plt.title('model loss')\n",
    "plt.ylabel('loss')\n",
    "plt.xlabel('epoch')\n",
    "plt.legend(['train', 'test'], loc='upper left')\n",
    "plt.show()"
   ]
  },
  {
   "cell_type": "markdown",
   "metadata": {},
   "source": [
    "FeedForward Network with Momentum and Regularization"
   ]
  },
  {
   "cell_type": "code",
   "execution_count": 2,
   "metadata": {
    "collapsed": true
   },
   "outputs": [],
   "source": [
    "from keras import regularizers\n",
    "def load_data():\n",
    "    print 'Loading data...'\n",
    "    (X_train, y_train), (X_test, y_test) = mnist.load_data()\n",
    "\n",
    "    X_train = X_train.astype('float32')\n",
    "    X_test = X_test.astype('float32')\n",
    "\n",
    "    X_train /= 255\n",
    "    X_test /= 255\n",
    "\n",
    "    y_train = np_utils.to_categorical(y_train, 10)\n",
    "    y_test = np_utils.to_categorical(y_test, 10)\n",
    "\n",
    "    X_train = np.reshape(X_train, (60000, 784))\n",
    "    X_test = np.reshape(X_test, (10000, 784))\n",
    "\n",
    "    \n",
    "    print 'Data loaded.'\n",
    "    return [X_train, X_test, y_train, y_test]\n",
    "    \n",
    "\n",
    "def init_model():\n",
    "    start_time = time.time()\n",
    "    print 'Compiling Model ... '\n",
    "    model = Sequential()\n",
    "    model.add(Dense(500, input_dim=784))\n",
    "    model.add(Dense(64, input_dim=64,\n",
    "                kernel_regularizer=regularizers.l2(0.01),\n",
    "                activity_regularizer=regularizers.l1(0.01)))\n",
    "    model.add(Dropout(0.25))\n",
    "    model.add(Dense(50))\n",
    "    model.add(Activation('relu'))\n",
    "    model.add(Dropout(0.25))\n",
    "    model.add(Dense(10))\n",
    "    model.add(Activation('softmax'))\n",
    "\n",
    "    rms = RMSprop()\n",
    "    model.compile(loss='categorical_crossentropy', optimizer=SGD(lr=0.05,momentum=0.9), metrics=['accuracy'])\n",
    "    print 'Model compield in {0} seconds'.format(time.time() - start_time)\n",
    "    return model\n",
    "\n",
    "\n",
    "def run_network(data=None, model=None, epochs=20, batch=128):\n",
    "        start_time = time.time()\n",
    "        if data is None:\n",
    "            X_train, X_test, y_train, y_test = load_data()\n",
    "        else:\n",
    "            X_train, X_test, y_train, y_test = data\n",
    "\n",
    "        if model is None:\n",
    "            model = init_model()\n",
    "        print 'Training model...'        \n",
    "        hist=model.fit(X_train, y_train, batch_size=batch,\n",
    "                           nb_epoch=epochs,\n",
    "                           verbose=2,  #1 for ETA, 0 for silent\n",
    "                           validation_data=(X_test, y_test))\n",
    "        print \"Training duration : {0}\".format(time.time() - start_time)\n",
    "        score = model.evaluate(X_test, y_test, batch_size=16)\n",
    "        print \"Network's test score [loss, accuracy]: {0}\".format(score)\n",
    "        return hist "
   ]
  },
  {
   "cell_type": "code",
   "execution_count": 3,
   "metadata": {},
   "outputs": [
    {
     "name": "stdout",
     "output_type": "stream",
     "text": [
      "Loading data...\n",
      "Data loaded.\n",
      "Compiling Model ... \n",
      "Model compield in 0.515983104706 seconds\n",
      "Training model...\n"
     ]
    },
    {
     "name": "stderr",
     "output_type": "stream",
     "text": [
      "/Users/karanuppal/anaconda/envs/gl-env/lib/python2.7/site-packages/keras/models.py:837: UserWarning: The `nb_epoch` argument in `fit` has been renamed `epochs`.\n",
      "  warnings.warn('The `nb_epoch` argument in `fit` '\n"
     ]
    },
    {
     "name": "stdout",
     "output_type": "stream",
     "text": [
      "Train on 60000 samples, validate on 10000 samples\n",
      "Epoch 1/20\n",
      "9s - loss: nan - acc: 0.0991 - val_loss: nan - val_acc: 0.0980\n",
      "Epoch 2/20\n",
      "8s - loss: nan - acc: 0.0987 - val_loss: nan - val_acc: 0.0980\n",
      "Epoch 3/20\n",
      "7s - loss: nan - acc: 0.0987 - val_loss: nan - val_acc: 0.0980\n",
      "Epoch 4/20\n",
      "9s - loss: nan - acc: 0.0987 - val_loss: nan - val_acc: 0.0980\n",
      "Epoch 5/20\n",
      "8s - loss: nan - acc: 0.0987 - val_loss: nan - val_acc: 0.0980\n",
      "Epoch 6/20\n",
      "8s - loss: nan - acc: 0.0987 - val_loss: nan - val_acc: 0.0980\n",
      "Epoch 7/20\n",
      "8s - loss: nan - acc: 0.0987 - val_loss: nan - val_acc: 0.0980\n",
      "Epoch 8/20\n",
      "10s - loss: nan - acc: 0.0987 - val_loss: nan - val_acc: 0.0980\n",
      "Epoch 9/20\n",
      "8s - loss: nan - acc: 0.0987 - val_loss: nan - val_acc: 0.0980\n",
      "Epoch 10/20\n",
      "8s - loss: nan - acc: 0.0987 - val_loss: nan - val_acc: 0.0980\n",
      "Epoch 11/20\n",
      "9s - loss: nan - acc: 0.0987 - val_loss: nan - val_acc: 0.0980\n",
      "Epoch 12/20\n",
      "9s - loss: nan - acc: 0.0987 - val_loss: nan - val_acc: 0.0980\n",
      "Epoch 13/20\n",
      "9s - loss: nan - acc: 0.0987 - val_loss: nan - val_acc: 0.0980\n",
      "Epoch 14/20\n",
      "8s - loss: nan - acc: 0.0987 - val_loss: nan - val_acc: 0.0980\n",
      "Epoch 15/20\n",
      "7s - loss: nan - acc: 0.0987 - val_loss: nan - val_acc: 0.0980\n",
      "Epoch 16/20\n",
      "7s - loss: nan - acc: 0.0987 - val_loss: nan - val_acc: 0.0980\n",
      "Epoch 17/20\n",
      "7s - loss: nan - acc: 0.0987 - val_loss: nan - val_acc: 0.0980\n",
      "Epoch 18/20\n",
      "8s - loss: nan - acc: 0.0987 - val_loss: nan - val_acc: 0.0980\n",
      "Epoch 19/20\n",
      "7s - loss: nan - acc: 0.0987 - val_loss: nan - val_acc: 0.0980\n",
      "Epoch 20/20\n",
      "8s - loss: nan - acc: 0.0987 - val_loss: nan - val_acc: 0.0980\n",
      "Training duration : 175.270366907\n",
      " 9936/10000 [============================>.] - ETA: 0sNetwork's test score [loss, accuracy]: [nan, 0.098000000000000004]\n",
      "['acc', 'loss', 'val_acc', 'val_loss']\n"
     ]
    },
    {
     "data": {
      "image/png": "[encoded data removed]",
      "text/plain": [
       "<matplotlib.figure.Figure at 0x12769ec90>"
      ]
     },
     "metadata": {},
     "output_type": "display_data"
    },
    {
     "data": {
      "image/png": "[encoded data removed]",
      "text/plain": [
       "<matplotlib.figure.Figure at 0x12790ed50>"
      ]
     },
     "metadata": {},
     "output_type": "display_data"
    }
   ],
   "source": [
    "data = load_data()\n",
    "hist=run_network(data=data)\n",
    "# list all data in history\n",
    "print(hist.history.keys())\n",
    "# summarize history for accuracy\n",
    "plt.plot(hist.history['acc'])\n",
    "plt.plot(hist.history['val_acc'])\n",
    "plt.title('model accuracy')\n",
    "plt.ylabel('accuracy')\n",
    "plt.xlabel('epoch')\n",
    "plt.legend(['train', 'test'], loc='upper left')\n",
    "plt.show()\n",
    "# summarize history for loss\n",
    "plt.plot(hist.history['loss'])\n",
    "plt.plot(hist.history['val_loss'])\n",
    "plt.title('model loss')\n",
    "plt.ylabel('loss')\n",
    "plt.xlabel('epoch')\n",
    "plt.legend(['train', 'test'], loc='upper left')\n",
    "plt.show()"
   ]
  },
  {
   "cell_type": "code",
   "execution_count": null,
   "metadata": {
    "collapsed": true
   },
   "outputs": [],
   "source": []
  }
 ],
 "metadata": {
  "kernelspec": {
   "display_name": "Python 2",
   "language": "python",
   "name": "python2"
  },
  "language_info": {
   "codemirror_mode": {
    "name": "ipython",
    "version": 2
   },
   "file_extension": ".py",
   "mimetype": "text/x-python",
   "name": "python",
   "nbconvert_exporter": "python",
   "pygments_lexer": "ipython2",
   "version": "2.7.13"
  }
 },
 "nbformat": 4,
 "nbformat_minor": 1
}
