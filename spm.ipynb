{
 "cells": [
  {
   "cell_type": "markdown",
   "metadata": {},
   "source": [
    "## Spatial Pyramid"
   ]
  },
  {
   "cell_type": "code",
   "execution_count": 2,
   "metadata": {
    "collapsed": false
   },
   "outputs": [
    {
     "name": "stderr",
     "output_type": "stream",
     "text": [
      "/Users/karanuppal/anaconda/envs/gl-env/lib/python2.7/site-packages/sklearn/cross_validation.py:44: DeprecationWarning: This module was deprecated in version 0.18 in favor of the model_selection module into which all the refactored classes and functions are moved. Also note that the interface of the new CV iterators are different from that of this module. This module will be removed in 0.20.\n",
      "  \"This module will be removed in 0.20.\", DeprecationWarning)\n",
      "/Users/karanuppal/anaconda/envs/gl-env/lib/python2.7/site-packages/sklearn/grid_search.py:43: DeprecationWarning: This module was deprecated in version 0.18 in favor of the model_selection module into which all the refactored classes and functions are moved. This module will be removed in 0.20.\n",
      "  DeprecationWarning)\n",
      "Using TensorFlow backend.\n",
      "/Users/karanuppal/anaconda/envs/gl-env/lib/python2.7/site-packages/pandas/computation/__init__.py:19: UserWarning: The installed version of numexpr 2.4.4 is not supported in pandas and will be not be used\n",
      "\n",
      "  UserWarning)\n"
     ]
    }
   ],
   "source": [
    "from utils import load_my_data\n",
    "from utils import extract_DenseSift_descriptors\n",
    "from utils import build_codebook\n",
    "from utils import input_vector_encoder\n",
    "from classifier import svm_classifier\n",
    "from keras.datasets import mnist\n",
    "import spm\n",
    "\n",
    "import numpy as np\n",
    "import argparse"
   ]
  },
  {
   "cell_type": "code",
   "execution_count": 3,
   "metadata": {
    "collapsed": false
   },
   "outputs": [],
   "source": [
    "(X_train, y_train), (X_test, y_test) = mnist.load_data()"
   ]
  },
  {
   "cell_type": "code",
   "execution_count": 4,
   "metadata": {
    "collapsed": false
   },
   "outputs": [
    {
     "name": "stdout",
     "output_type": "stream",
     "text": [
      "(60000, 28, 28)\n"
     ]
    }
   ],
   "source": [
    "print X_train.shape"
   ]
  },
  {
   "cell_type": "code",
   "execution_count": 5,
   "metadata": {
    "collapsed": false
   },
   "outputs": [
    {
     "name": "stdout",
     "output_type": "stream",
     "text": [
      "Codebook Size: 200\n",
      "Pyramid level: 2\n",
      "Dense SIFT feature extraction\n"
     ]
    }
   ],
   "source": [
    "\n",
    "\n",
    "X, y = X_train, y_train\n",
    "\n",
    "X_small = []\n",
    "y_small = []\n",
    "for digit in range(0,10):\n",
    "    x_tmp = [X[i] for i in range(60000) if y[i] == digit]\n",
    "    y_tmp = [y[i] for i in range(60000) if y[i] == digit]\n",
    "    X_small = X_small + x_tmp[:100]\n",
    "    y_small = y_small + y_tmp[:100]\n",
    "\n",
    "X = X_small\n",
    "y = y_small\n",
    "\n",
    "print \"Codebook Size: {:d}\".format(spm.VOC_SIZE)\n",
    "print \"Pyramid level: {:d}\".format(spm.PYRAMID_LEVEL)\n",
    "print \"Dense SIFT feature extraction\""
   ]
  },
  {
   "cell_type": "code",
   "execution_count": 6,
   "metadata": {
    "collapsed": false
   },
   "outputs": [],
   "source": [
    "x_feature = [extract_DenseSift_descriptors(img) for img in X]\n",
    "x_kp, x_des = zip(*x_feature)\n",
    "xt_feature = [extract_DenseSift_descriptors(img) for img in X_test]\n",
    "xt_kp, xt_des = zip(*xt_feature)"
   ]
  },
  {
   "cell_type": "code",
   "execution_count": 7,
   "metadata": {
    "collapsed": false
   },
   "outputs": [
    {
     "name": "stderr",
     "output_type": "stream",
     "text": [
      "classifier.py:19: FutureWarning: comparison to `None` will result in an elementwise object comparison in the future.\n",
      "  if x_test == None and y_test == None:\n"
     ]
    },
    {
     "name": "stdout",
     "output_type": "stream",
     "text": [
      "Tuning hyper-parameters\n",
      "\n",
      "Best parameters set found on development set:\n",
      "\n",
      "SVC(C=0.001, cache_size=200, class_weight=None, coef0=0.0,\n",
      "  decision_function_shape=None, degree=3, gamma=0.001, kernel='rbf',\n",
      "  max_iter=-1, probability=False, random_state=None, shrinking=True,\n",
      "  tol=0.001, verbose=False)\n",
      "\n",
      "Grid scores on development set:\n",
      "\n",
      "0.300 (+/-0.037) for {'C': 0.001, 'gamma': 0.001}\n",
      "0.102 (+/-0.005) for {'C': 0.001, 'gamma': 0.01}\n",
      "0.100 (+/-0.000) for {'C': 0.001, 'gamma': 0.1}\n",
      "0.100 (+/-0.000) for {'C': 0.001, 'gamma': 1.0}\n",
      "0.100 (+/-0.000) for {'C': 0.001, 'gamma': 10.0}\n",
      "0.100 (+/-0.000) for {'C': 0.001, 'gamma': 100.0}\n",
      "0.300 (+/-0.037) for {'C': 0.01, 'gamma': 0.001}\n",
      "0.102 (+/-0.005) for {'C': 0.01, 'gamma': 0.01}\n",
      "0.100 (+/-0.000) for {'C': 0.01, 'gamma': 0.1}\n",
      "0.100 (+/-0.000) for {'C': 0.01, 'gamma': 1.0}\n",
      "0.100 (+/-0.000) for {'C': 0.01, 'gamma': 10.0}\n",
      "0.100 (+/-0.000) for {'C': 0.01, 'gamma': 100.0}\n",
      "0.300 (+/-0.037) for {'C': 0.1, 'gamma': 0.001}\n",
      "0.102 (+/-0.005) for {'C': 0.1, 'gamma': 0.01}\n",
      "0.100 (+/-0.000) for {'C': 0.1, 'gamma': 0.1}\n",
      "0.100 (+/-0.000) for {'C': 0.1, 'gamma': 1.0}\n",
      "0.100 (+/-0.000) for {'C': 0.1, 'gamma': 10.0}\n",
      "0.100 (+/-0.000) for {'C': 0.1, 'gamma': 100.0}\n",
      "0.203 (+/-0.039) for {'C': 1.0, 'gamma': 0.001}\n",
      "0.102 (+/-0.005) for {'C': 1.0, 'gamma': 0.01}\n",
      "0.100 (+/-0.000) for {'C': 1.0, 'gamma': 0.1}\n",
      "0.100 (+/-0.000) for {'C': 1.0, 'gamma': 1.0}\n",
      "0.100 (+/-0.000) for {'C': 1.0, 'gamma': 10.0}\n",
      "0.100 (+/-0.000) for {'C': 1.0, 'gamma': 100.0}\n",
      "0.203 (+/-0.039) for {'C': 10.0, 'gamma': 0.001}\n",
      "0.102 (+/-0.005) for {'C': 10.0, 'gamma': 0.01}\n",
      "0.100 (+/-0.000) for {'C': 10.0, 'gamma': 0.1}\n",
      "0.100 (+/-0.000) for {'C': 10.0, 'gamma': 1.0}\n",
      "0.100 (+/-0.000) for {'C': 10.0, 'gamma': 10.0}\n",
      "0.100 (+/-0.000) for {'C': 10.0, 'gamma': 100.0}\n",
      "0.203 (+/-0.039) for {'C': 100.0, 'gamma': 0.001}\n",
      "0.102 (+/-0.005) for {'C': 100.0, 'gamma': 0.01}\n",
      "0.100 (+/-0.000) for {'C': 100.0, 'gamma': 0.1}\n",
      "0.100 (+/-0.000) for {'C': 100.0, 'gamma': 1.0}\n",
      "0.100 (+/-0.000) for {'C': 100.0, 'gamma': 10.0}\n",
      "0.100 (+/-0.000) for {'C': 100.0, 'gamma': 100.0}\n",
      "\n",
      "Detailed classification report:\n",
      "\n",
      "The model is trained on the full development set.\n",
      "The scores are computed on the full evaluation set.\n",
      "\n",
      "             precision    recall  f1-score   support\n",
      "\n",
      "          0       1.00      0.16      0.28       980\n",
      "          1       1.00      0.91      0.96      1135\n",
      "          2       1.00      0.01      0.02      1032\n",
      "          3       1.00      0.02      0.04      1010\n",
      "          4       1.00      0.06      0.11       982\n",
      "          5       1.00      0.02      0.05       892\n",
      "          6       1.00      0.16      0.27       958\n",
      "          7       1.00      0.17      0.29      1028\n",
      "          8       1.00      0.06      0.11       974\n",
      "          9       0.12      1.00      0.22      1009\n",
      "\n",
      "avg / total       0.91      0.27      0.25     10000\n",
      "\n",
      "Accuracy Score:  0.2695\n",
      "[[ 159    0    0    0    0    0    0    0    0  821]\n",
      " [   0 1038    0    0    0    0    0    0    0   97]\n",
      " [   0    0   13    0    0    0    0    0    0 1019]\n",
      " [   0    0    0   20    0    0    0    0    0  990]\n",
      " [   0    0    0    0   59    0    0    0    0  923]\n",
      " [   0    0    0    0    0   21    0    0    0  871]\n",
      " [   0    0    0    0    0    0  150    0    0  808]\n",
      " [   0    0    0    0    0    0    0  171    0  857]\n",
      " [   0    0    0    0    0    0    0    0   55  919]\n",
      " [   0    0    0    0    0    0    0    0    0 1009]]\n",
      "CPU times: user 1min 45s, sys: 7.38 s, total: 1min 53s\n",
      "Wall time: 19min 19s\n"
     ]
    }
   ],
   "source": [
    "%%time\n",
    "## SIFT based matching only for experimentation\n",
    "trx = np.array([np.array(a).flatten() for a in x_des])\n",
    "tex = np.array([np.array(a).flatten() for a in xt_des])\n",
    "svm_classifier(trx, y, tex, y_test)"
   ]
  },
  {
   "cell_type": "code",
   "execution_count": 8,
   "metadata": {
    "collapsed": false
   },
   "outputs": [
    {
     "name": "stdout",
     "output_type": "stream",
     "text": [
      "Building the codebook, it will take some time\n",
      "CPU times: user 768 ms, sys: 869 ms, total: 1.64 s\n",
      "Wall time: 1min 35s\n"
     ]
    }
   ],
   "source": [
    "%%time\n",
    "print \"Building the codebook, it will take some time\"\n",
    "codebook = build_codebook(x_des, spm.VOC_SIZE)\n",
    "#import cPickle\n",
    "#with open('./data/codebook_spm.pkl','w') as f:\n",
    "#    cPickle.dump(codebook, f)"
   ]
  },
  {
   "cell_type": "code",
   "execution_count": 9,
   "metadata": {
    "collapsed": false
   },
   "outputs": [
    {
     "name": "stdout",
     "output_type": "stream",
     "text": [
      "Spatial Pyramid Matching encoding\n",
      "CPU times: user 5.49 s, sys: 262 ms, total: 5.75 s\n",
      "Wall time: 3.6 s\n"
     ]
    }
   ],
   "source": [
    "%%time\n",
    "\n",
    "print \"Spatial Pyramid Matching encoding\"\n",
    "X = [spm.spatial_pyramid_matching(X[i],\n",
    "                              x_des[i],\n",
    "                              codebook,\n",
    "                              level=spm.PYRAMID_LEVEL)\n",
    "                              for i in xrange(len(x_des))]"
   ]
  },
  {
   "cell_type": "code",
   "execution_count": 10,
   "metadata": {
    "collapsed": false
   },
   "outputs": [
    {
     "name": "stdout",
     "output_type": "stream",
     "text": [
      "CPU times: user 51.6 s, sys: 1.58 s, total: 53.1 s\n",
      "Wall time: 29.1 s\n"
     ]
    }
   ],
   "source": [
    "%%time\n",
    "X_test = [spm.spatial_pyramid_matching(X_test[i],\n",
    "                              xt_des[i],\n",
    "                              codebook,\n",
    "                              level=spm.PYRAMID_LEVEL)\n",
    "                              for i in xrange(len(xt_des))]"
   ]
  },
  {
   "cell_type": "code",
   "execution_count": 11,
   "metadata": {
    "collapsed": false
   },
   "outputs": [
    {
     "name": "stdout",
     "output_type": "stream",
     "text": [
      "Tuning hyper-parameters\n",
      "\n",
      "Best parameters set found on development set:\n",
      "\n",
      "SVC(C=10.0, cache_size=200, class_weight=None, coef0=0.0,\n",
      "  decision_function_shape=None, degree=3, gamma=1.0, kernel='rbf',\n",
      "  max_iter=-1, probability=False, random_state=None, shrinking=True,\n",
      "  tol=0.001, verbose=False)\n",
      "\n",
      "Grid scores on development set:\n",
      "\n",
      "0.793 (+/-0.107) for {'C': 0.001, 'gamma': 0.001}\n",
      "0.793 (+/-0.107) for {'C': 0.001, 'gamma': 0.01}\n",
      "0.796 (+/-0.105) for {'C': 0.001, 'gamma': 0.1}\n",
      "0.813 (+/-0.085) for {'C': 0.001, 'gamma': 1.0}\n",
      "0.613 (+/-0.077) for {'C': 0.001, 'gamma': 10.0}\n",
      "0.135 (+/-0.028) for {'C': 0.001, 'gamma': 100.0}\n",
      "0.793 (+/-0.107) for {'C': 0.01, 'gamma': 0.001}\n",
      "0.793 (+/-0.107) for {'C': 0.01, 'gamma': 0.01}\n",
      "0.796 (+/-0.105) for {'C': 0.01, 'gamma': 0.1}\n",
      "0.813 (+/-0.085) for {'C': 0.01, 'gamma': 1.0}\n",
      "0.613 (+/-0.077) for {'C': 0.01, 'gamma': 10.0}\n",
      "0.135 (+/-0.028) for {'C': 0.01, 'gamma': 100.0}\n",
      "0.793 (+/-0.107) for {'C': 0.1, 'gamma': 0.001}\n",
      "0.793 (+/-0.107) for {'C': 0.1, 'gamma': 0.01}\n",
      "0.796 (+/-0.105) for {'C': 0.1, 'gamma': 0.1}\n",
      "0.816 (+/-0.059) for {'C': 0.1, 'gamma': 1.0}\n",
      "0.614 (+/-0.078) for {'C': 0.1, 'gamma': 10.0}\n",
      "0.135 (+/-0.028) for {'C': 0.1, 'gamma': 100.0}\n",
      "0.793 (+/-0.107) for {'C': 1.0, 'gamma': 0.001}\n",
      "0.793 (+/-0.107) for {'C': 1.0, 'gamma': 0.01}\n",
      "0.818 (+/-0.050) for {'C': 1.0, 'gamma': 0.1}\n",
      "0.880 (+/-0.042) for {'C': 1.0, 'gamma': 1.0}\n",
      "0.856 (+/-0.051) for {'C': 1.0, 'gamma': 10.0}\n",
      "0.243 (+/-0.038) for {'C': 1.0, 'gamma': 100.0}\n",
      "0.793 (+/-0.107) for {'C': 10.0, 'gamma': 0.001}\n",
      "0.818 (+/-0.050) for {'C': 10.0, 'gamma': 0.01}\n",
      "0.884 (+/-0.048) for {'C': 10.0, 'gamma': 0.1}\n",
      "0.904 (+/-0.031) for {'C': 10.0, 'gamma': 1.0}\n",
      "0.860 (+/-0.051) for {'C': 10.0, 'gamma': 10.0}\n",
      "0.254 (+/-0.056) for {'C': 10.0, 'gamma': 100.0}\n",
      "0.818 (+/-0.050) for {'C': 100.0, 'gamma': 0.001}\n",
      "0.885 (+/-0.046) for {'C': 100.0, 'gamma': 0.01}\n",
      "0.901 (+/-0.037) for {'C': 100.0, 'gamma': 0.1}\n",
      "0.903 (+/-0.036) for {'C': 100.0, 'gamma': 1.0}\n",
      "0.860 (+/-0.051) for {'C': 100.0, 'gamma': 10.0}\n",
      "0.254 (+/-0.056) for {'C': 100.0, 'gamma': 100.0}\n",
      "\n",
      "Detailed classification report:\n",
      "\n",
      "The model is trained on the full development set.\n",
      "The scores are computed on the full evaluation set.\n",
      "\n",
      "             precision    recall  f1-score   support\n",
      "\n",
      "          0       0.89      0.96      0.92       980\n",
      "          1       0.98      0.98      0.98      1135\n",
      "          2       0.93      0.92      0.92      1032\n",
      "          3       0.86      0.86      0.86      1010\n",
      "          4       0.93      0.87      0.90       982\n",
      "          5       0.87      0.90      0.88       892\n",
      "          6       0.92      0.94      0.93       958\n",
      "          7       0.93      0.86      0.89      1028\n",
      "          8       0.85      0.76      0.80       974\n",
      "          9       0.79      0.89      0.84      1009\n",
      "\n",
      "avg / total       0.90      0.90      0.90     10000\n",
      "\n",
      "Accuracy Score:  0.8958\n",
      "[[ 941    1    6    1    1    1   12    1   11    5]\n",
      " [   0 1116    2    4    0    3    6    2    2    0]\n",
      " [   6    0  950   39    1    3    9    9   14    1]\n",
      " [   0    1   31  870    1   60    0   12   25   10]\n",
      " [   0    0    5    0  859    0   33    0   17   68]\n",
      " [  12    0    2   28    1  799    6    2   34    8]\n",
      " [  19    1    2    0   21    6  904    0    5    0]\n",
      " [   1    4   20   29    2    3    1  882   15   71]\n",
      " [  56   12    7   21   14   31    9   13  737   74]\n",
      " [  20    6    1   16   23   11    1   23    8  900]]\n",
      "CPU times: user 25.2 s, sys: 1.27 s, total: 26.5 s\n",
      "Wall time: 3min 21s\n"
     ]
    }
   ],
   "source": [
    "%%time\n",
    "X = np.asarray(X)\n",
    "X_test = np.asarray(X_test)\n",
    "svm_classifier(X, y, X_test, y_test)"
   ]
  },
  {
   "cell_type": "code",
   "execution_count": null,
   "metadata": {
    "collapsed": true
   },
   "outputs": [],
   "source": []
  },
  {
   "cell_type": "code",
   "execution_count": null,
   "metadata": {
    "collapsed": true
   },
   "outputs": [],
   "source": []
  }
 ],
 "metadata": {
  "kernelspec": {
   "display_name": "Python 2",
   "language": "python",
   "name": "python2"
  },
  "language_info": {
   "codemirror_mode": {
    "name": "ipython",
    "version": 2
   },
   "file_extension": ".py",
   "mimetype": "text/x-python",
   "name": "python",
   "nbconvert_exporter": "python",
   "pygments_lexer": "ipython2",
   "version": "2.7.13"
  }
 },
 "nbformat": 4,
 "nbformat_minor": 0
}
